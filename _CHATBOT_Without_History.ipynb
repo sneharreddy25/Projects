{
  "nbformat": 4,
  "nbformat_minor": 0,
  "metadata": {
    "colab": {
      "provenance": [],
      "authorship_tag": "ABX9TyOP8pqPS4RBTuGaYqNrV9ao",
      "include_colab_link": true
    },
    "kernelspec": {
      "name": "python3",
      "display_name": "Python 3"
    },
    "language_info": {
      "name": "python"
    }
  },
  "cells": [
    {
      "cell_type": "markdown",
      "metadata": {
        "id": "view-in-github",
        "colab_type": "text"
      },
      "source": [
        "<a href=\"https://colab.research.google.com/github/sneharreddy25/Projects/blob/main/_CHATBOT_Without_History.ipynb\" target=\"_parent\"><img src=\"https://colab.research.google.com/assets/colab-badge.svg\" alt=\"Open In Colab\"/></a>"
      ]
    },
    {
      "cell_type": "code",
      "execution_count": 1,
      "metadata": {
        "id": "_JC_9KM95v1F"
      },
      "outputs": [],
      "source": [
        "# CHATBOT WITHOUT history"
      ]
    },
    {
      "cell_type": "code",
      "source": [
        "# irrelevant output chatbot\n",
        "\n",
        "from transformers import AutoModelForCausalLM, AutoTokenizer\n",
        "import torch\n",
        "\n",
        "tokenizer = AutoTokenizer.from_pretrained(\"microsoft/DialoGPT-small\")\n",
        "model = AutoModelForCausalLM.from_pretrained(\"microsoft/DialoGPT-small\")\n",
        "\n",
        "# No chat history is maintained\n",
        "\n",
        "print(\"Bot: Hello! Start chatting with me (type 'exit' to stop)\")\n",
        "while True:\n",
        "    user_input = input(\"You: \")\n",
        "\n",
        "    if user_input.lower() == \"exit\":\n",
        "        print(\"Bot: Goodbye!\")\n",
        "        break\n",
        "\n",
        "    # Encode user input\n",
        "    new_input_ids = tokenizer.encode(user_input + tokenizer.eos_token, return_tensors='pt')\n",
        "\n",
        "    # Generate response based only on the current input\n",
        "    # We pass only the new_input_ids to the generate function\n",
        "    output = model.generate(new_input_ids, max_length=1000, pad_token_id=tokenizer.eos_token_id)\n",
        "\n",
        "    # Decode and print the generated response\n",
        "    # The output tensor now contains only the generated response tokens after the input\n",
        "    response = tokenizer.decode(output[:, new_input_ids.shape[-1]:][0], skip_special_tokens=True)\n",
        "    print(\"Bot:\", response)"
      ],
      "metadata": {
        "colab": {
          "base_uri": "https://localhost:8080/"
        },
        "id": "I4WHY6yH57S5",
        "outputId": "80019fe0-3554-414e-a78e-09a5ee4fbb19"
      },
      "execution_count": null,
      "outputs": [
        {
          "output_type": "stream",
          "name": "stdout",
          "text": [
            "Bot: Hello! Start chatting with me (type 'exit' to stop)\n",
            "You: 'hi'\n",
            "Bot: Hi, I'm dad.\n",
            "You: 'hi, i need ship top 3 manufacturers '\n",
            "Bot: I'm not sure what you're asking.\n",
            "You: 'i need and synonym'\n",
            "Bot: I need and synonym\n",
            "You: 'exit'\n",
            "Bot: \n"
          ]
        }
      ]
    },
    {
      "cell_type": "code",
      "source": [],
      "metadata": {
        "id": "x2uVKXq37YIY"
      },
      "execution_count": null,
      "outputs": []
    }
  ]
}